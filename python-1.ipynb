{
 "cells": [
  {
   "cell_type": "markdown",
   "metadata": {},
   "source": [
    "Created by maziyar adibifar\n",
    "12/8/2020   => 17/9/1399"
   ]
  },
  {
   "cell_type": "markdown",
   "metadata": {},
   "source": [
    "aparat:https://www.aparat.com/maziyar_adibifar\n",
    "\n",
    "aparat playlist:https://www.aparat.com/playlist/697839\n",
    "\n",
    "youtube:https://www.youtube.com/channel/UCTtd-DkrOWJ_dNbLPop_28w/\n",
    "\n",
    "youtube playlist:https://www.youtube.com/watch?v=U-Cs58PEGtk&list=PLbWXN0PEvcq1QPTaSY7sBHGZ7TKfHS4BZ\n",
    "\n",
    "contact with me\n",
    "\n",
    "insta : maziyar_adibifar_\n",
    "\n",
    "http://www.facebook.com/molanaa.ad"
   ]
  },
  {
   "cell_type": "code",
   "execution_count": 22,
   "metadata": {},
   "outputs": [
    {
     "name": "stdout",
     "output_type": "stream",
     "text": [
      "enter number ?5156165165165\n",
      "fard\n"
     ]
    }
   ],
   "source": [
    "x=int(input(\"enter number ?\"))\n",
    "if x%2!=0:\n",
    "    print(\"fard\")\n",
    "else:\n",
    "    print(\"zoj\")"
   ]
  },
  {
   "cell_type": "code",
   "execution_count": 24,
   "metadata": {},
   "outputs": [
    {
     "name": "stdout",
     "output_type": "stream",
     "text": [
      "enter num1 ?85\n",
      "enter + - * /   ?/\n",
      "enter num2 ?3\n",
      "28.333333333333332\n"
     ]
    }
   ],
   "source": [
    "num1=float(input(\"enter num1 ?\"))\n",
    "amal=input(\"enter + - * /   ?\")\n",
    "num2=float(input(\"enter num2 ?\"))\n",
    "if amal==\"+\":\n",
    "    print(num1+num2)\n",
    "elif amal==\"-\":\n",
    "    print(num1-num2)\n",
    "elif amal==\"*\":\n",
    "    print(num1*num2)\n",
    "elif amal==\"/\":\n",
    "    print(num1/num2)\n",
    "else:\n",
    "    print(\"eror\")"
   ]
  },
  {
   "cell_type": "code",
   "execution_count": 28,
   "metadata": {},
   "outputs": [
    {
     "name": "stdout",
     "output_type": "stream",
     "text": [
      "enter str ?ssssdmakldn reza\n",
      "found reza\n"
     ]
    }
   ],
   "source": [
    "s=input(\"enter str ?\")\n",
    "f=s.find(\"reza\")\n",
    "if f>0:\n",
    "    print(\"found reza\")\n",
    "else:\n",
    "    print(\"not fonud\")"
   ]
  },
  {
   "cell_type": "code",
   "execution_count": 31,
   "metadata": {},
   "outputs": [
    {
     "name": "stdout",
     "output_type": "stream",
     "text": [
      "enter num 1?88888888888888\n",
      "enter num 2?1565165848\n",
      "enter num 3?5416548948498\n",
      "88888888888888\n",
      "1565165848\n"
     ]
    }
   ],
   "source": [
    "n1=int(input(\"enter num 1?\"))\n",
    "n2=int(input(\"enter num 2?\"))\n",
    "n3=int(input(\"enter num 3?\"))\n",
    "big=max(n1,n2,n3)\n",
    "small=min(n1,n2,n3)\n",
    "print(big)\n",
    "print(small)"
   ]
  },
  {
   "cell_type": "code",
   "execution_count": null,
   "metadata": {},
   "outputs": [],
   "source": [
    "o=input(\"enter :\") #madjapdjaopdaodjapodjadja\n",
    "c=input(\"enter :\") #m > 1\n",
    "g=o.count(c)\n",
    "if g==0:\n",
    "    print(\"not found\")\n",
    "else:\n",
    "    print(g)"
   ]
  },
  {
   "cell_type": "code",
   "execution_count": 9,
   "metadata": {},
   "outputs": [],
   "source": [
    "#6"
   ]
  },
  {
   "cell_type": "code",
   "execution_count": 37,
   "metadata": {},
   "outputs": [
    {
     "name": "stdout",
     "output_type": "stream",
     "text": [
      "enter username?admin\n",
      "enter password?1234\n",
      "mofagh\n",
      "enter password 2 ?555\n",
      "hesab : 599598598\n",
      "ramz : 1234\n"
     ]
    }
   ],
   "source": [
    "u=\"admin\"\n",
    "p=\"1234\"\n",
    "pass2=\"555\"\n",
    "login=0\n",
    "user=input(\"enter username?\")\n",
    "password=input(\"enter password?\")\n",
    "if user==u and password==p:\n",
    "    print(\"mofagh\")\n",
    "    login=1\n",
    "elif user==u and password!=p:\n",
    "    print(\"password eshtebah\")\n",
    "elif user!=u and password==p:\n",
    "    print(\"user eshtebah\")\n",
    "else:\n",
    "    print(\"user va password eshtebah\")\n",
    "if login==1:\n",
    "    z=input(\"enter password 2 ?\")\n",
    "    if z==pass2:\n",
    "        print(\"hesab : 599598598\")\n",
    "        print(\"ramz : 1234\")\n",
    "    else:\n",
    "        print(\"na moafagh\")"
   ]
  },
  {
   "cell_type": "code",
   "execution_count": 1,
   "metadata": {},
   "outputs": [],
   "source": [
    "#7"
   ]
  },
  {
   "cell_type": "code",
   "execution_count": null,
   "metadata": {},
   "outputs": [],
   "source": [
    "# while   for   range()"
   ]
  },
  {
   "cell_type": "code",
   "execution_count": 18,
   "metadata": {},
   "outputs": [],
   "source": [
    "while 14>15:\n",
    "    print(\"sss\")"
   ]
  },
  {
   "cell_type": "code",
   "execution_count": 22,
   "metadata": {},
   "outputs": [
    {
     "name": "stdout",
     "output_type": "stream",
     "text": [
      "0 maziyar\n",
      "1 maziyar\n",
      "2 maziyar\n",
      "3 maziyar\n",
      "4 maziyar\n",
      "5 maziyar\n",
      "6 maziyar\n",
      "7 maziyar\n",
      "8 maziyar\n",
      "9 maziyar\n",
      "10 maziyar\n"
     ]
    }
   ],
   "source": [
    "c=0\n",
    "while 10>=c:\n",
    "    print(c,\"maziyar\")\n",
    "    c=c+1"
   ]
  },
  {
   "cell_type": "code",
   "execution_count": 25,
   "metadata": {},
   "outputs": [
    {
     "name": "stdout",
     "output_type": "stream",
     "text": [
      "0 maziyar\n",
      "1 maziyar\n",
      "2 maziyar\n"
     ]
    }
   ],
   "source": [
    "c=0\n",
    "while 10>=c:\n",
    "    if c == 3:\n",
    "        break\n",
    "    print(c,\"maziyar\")\n",
    "    c=c+1"
   ]
  },
  {
   "cell_type": "code",
   "execution_count": 27,
   "metadata": {},
   "outputs": [
    {
     "name": "stdout",
     "output_type": "stream",
     "text": [
      "1 maziyar\n",
      "2 maziyar\n",
      "4 maziyar\n",
      "5 maziyar\n",
      "6 maziyar\n",
      "7 maziyar\n",
      "8 maziyar\n",
      "9 maziyar\n",
      "10 maziyar\n"
     ]
    }
   ],
   "source": [
    "c=0\n",
    "while 10>c:\n",
    "    c=c+1\n",
    "    if c == 3:\n",
    "        continue\n",
    "    print(c,\"maziyar\")"
   ]
  },
  {
   "cell_type": "code",
   "execution_count": 29,
   "metadata": {},
   "outputs": [
    {
     "name": "stdout",
     "output_type": "stream",
     "text": [
      "i\n",
      "r\n",
      "a\n",
      "n\n"
     ]
    }
   ],
   "source": [
    "for uu in \"iran\":\n",
    "    print(uu)"
   ]
  },
  {
   "cell_type": "code",
   "execution_count": 30,
   "metadata": {},
   "outputs": [
    {
     "name": "stdout",
     "output_type": "stream",
     "text": [
      "i\n"
     ]
    }
   ],
   "source": [
    "for uu in \"iran\":\n",
    "    if uu==\"r\":\n",
    "        break\n",
    "    print(uu)"
   ]
  },
  {
   "cell_type": "code",
   "execution_count": 31,
   "metadata": {},
   "outputs": [
    {
     "name": "stdout",
     "output_type": "stream",
     "text": [
      "i\n",
      "a\n",
      "n\n"
     ]
    }
   ],
   "source": [
    "for uu in \"iran\":\n",
    "    if uu==\"r\":\n",
    "        continue\n",
    "    print(uu)"
   ]
  },
  {
   "cell_type": "code",
   "execution_count": 36,
   "metadata": {},
   "outputs": [
    {
     "name": "stdout",
     "output_type": "stream",
     "text": [
      "10 maziyar\n",
      "12 maziyar\n",
      "14 maziyar\n",
      "16 maziyar\n",
      "18 maziyar\n",
      "20 maziyar\n",
      "22 maziyar\n",
      "24 maziyar\n",
      "26 maziyar\n",
      "28 maziyar\n",
      "30 maziyar\n",
      "32 maziyar\n",
      "34 maziyar\n",
      "36 maziyar\n",
      "38 maziyar\n",
      "40 maziyar\n",
      "42 maziyar\n",
      "44 maziyar\n",
      "46 maziyar\n",
      "48 maziyar\n"
     ]
    }
   ],
   "source": [
    "for p in range(10,50,2): #range(start,end,step by step)\n",
    "    print(p,\"maziyar\")"
   ]
  },
  {
   "cell_type": "code",
   "execution_count": 1,
   "metadata": {},
   "outputs": [],
   "source": [
    "#8"
   ]
  },
  {
   "cell_type": "code",
   "execution_count": null,
   "metadata": {},
   "outputs": [],
   "source": [
    "#list"
   ]
  },
  {
   "cell_type": "code",
   "execution_count": 35,
   "metadata": {},
   "outputs": [],
   "source": [
    "x = []"
   ]
  },
  {
   "cell_type": "code",
   "execution_count": 36,
   "metadata": {},
   "outputs": [
    {
     "data": {
      "text/plain": [
       "list"
      ]
     },
     "execution_count": 36,
     "metadata": {},
     "output_type": "execute_result"
    }
   ],
   "source": [
    "type(x)"
   ]
  },
  {
   "cell_type": "code",
   "execution_count": 37,
   "metadata": {},
   "outputs": [],
   "source": [
    "x=[1,1.2,\"str\",True]"
   ]
  },
  {
   "cell_type": "code",
   "execution_count": 38,
   "metadata": {},
   "outputs": [
    {
     "data": {
      "text/plain": [
       "[1, 1.2, 'str', True]"
      ]
     },
     "execution_count": 38,
     "metadata": {},
     "output_type": "execute_result"
    }
   ],
   "source": [
    "x"
   ]
  },
  {
   "cell_type": "code",
   "execution_count": 39,
   "metadata": {},
   "outputs": [],
   "source": [
    "list1=[1,2,3]"
   ]
  },
  {
   "cell_type": "code",
   "execution_count": 40,
   "metadata": {},
   "outputs": [],
   "source": [
    "list2=[4,5,6]"
   ]
  },
  {
   "cell_type": "code",
   "execution_count": 41,
   "metadata": {},
   "outputs": [],
   "source": [
    "w=[list1,list2]"
   ]
  },
  {
   "cell_type": "code",
   "execution_count": 42,
   "metadata": {},
   "outputs": [
    {
     "data": {
      "text/plain": [
       "[[1, 2, 3], [4, 5, 6]]"
      ]
     },
     "execution_count": 42,
     "metadata": {},
     "output_type": "execute_result"
    }
   ],
   "source": [
    "w"
   ]
  },
  {
   "cell_type": "code",
   "execution_count": 43,
   "metadata": {},
   "outputs": [
    {
     "name": "stdout",
     "output_type": "stream",
     "text": [
      "5\n"
     ]
    }
   ],
   "source": [
    "print(w[1][1])"
   ]
  },
  {
   "cell_type": "code",
   "execution_count": 44,
   "metadata": {},
   "outputs": [
    {
     "data": {
      "text/plain": [
       "2"
      ]
     },
     "execution_count": 44,
     "metadata": {},
     "output_type": "execute_result"
    }
   ],
   "source": [
    "len(w)"
   ]
  },
  {
   "cell_type": "code",
   "execution_count": 45,
   "metadata": {},
   "outputs": [
    {
     "data": {
      "text/plain": [
       "3"
      ]
     },
     "execution_count": 45,
     "metadata": {},
     "output_type": "execute_result"
    }
   ],
   "source": [
    "len(list1)"
   ]
  },
  {
   "cell_type": "code",
   "execution_count": 46,
   "metadata": {},
   "outputs": [
    {
     "data": {
      "text/plain": [
       "1"
      ]
     },
     "execution_count": 46,
     "metadata": {},
     "output_type": "execute_result"
    }
   ],
   "source": [
    "list1[0]"
   ]
  },
  {
   "cell_type": "code",
   "execution_count": 47,
   "metadata": {},
   "outputs": [],
   "source": [
    "list3=[1,2,3,4,5,6,7,8,9]"
   ]
  },
  {
   "cell_type": "code",
   "execution_count": 50,
   "metadata": {},
   "outputs": [
    {
     "data": {
      "text/plain": [
       "[1, 3, 5, 7, 9]"
      ]
     },
     "execution_count": 50,
     "metadata": {},
     "output_type": "execute_result"
    }
   ],
   "source": [
    "list3[::2]"
   ]
  },
  {
   "cell_type": "code",
   "execution_count": 51,
   "metadata": {},
   "outputs": [],
   "source": [
    "list4=list3 + [\"maziyar\"]"
   ]
  },
  {
   "cell_type": "code",
   "execution_count": 52,
   "metadata": {},
   "outputs": [
    {
     "data": {
      "text/plain": [
       "[1, 2, 3, 4, 5, 6, 7, 8, 9, 'maziyar']"
      ]
     },
     "execution_count": 52,
     "metadata": {},
     "output_type": "execute_result"
    }
   ],
   "source": [
    "list4"
   ]
  },
  {
   "cell_type": "code",
   "execution_count": 53,
   "metadata": {},
   "outputs": [
    {
     "data": {
      "text/plain": [
       "[1, 2, 3, 4, 5, 6, 7, 8, 9, 'maziyar', 1, 2, 3, 4, 5, 6, 7, 8, 9, 'maziyar']"
      ]
     },
     "execution_count": 53,
     "metadata": {},
     "output_type": "execute_result"
    }
   ],
   "source": [
    "list4*2"
   ]
  },
  {
   "cell_type": "code",
   "execution_count": 54,
   "metadata": {},
   "outputs": [],
   "source": [
    "list4.append(1447)"
   ]
  },
  {
   "cell_type": "code",
   "execution_count": 55,
   "metadata": {},
   "outputs": [
    {
     "data": {
      "text/plain": [
       "[1, 2, 3, 4, 5, 6, 7, 8, 9]"
      ]
     },
     "execution_count": 55,
     "metadata": {},
     "output_type": "execute_result"
    }
   ],
   "source": [
    "list3"
   ]
  },
  {
   "cell_type": "code",
   "execution_count": 56,
   "metadata": {},
   "outputs": [
    {
     "data": {
      "text/plain": [
       "[1, 2, 3, 4, 5, 6, 7, 8, 9, 'maziyar', 1447]"
      ]
     },
     "execution_count": 56,
     "metadata": {},
     "output_type": "execute_result"
    }
   ],
   "source": [
    "list4"
   ]
  },
  {
   "cell_type": "code",
   "execution_count": 57,
   "metadata": {},
   "outputs": [],
   "source": [
    "list4.remove(6)"
   ]
  },
  {
   "cell_type": "code",
   "execution_count": 58,
   "metadata": {},
   "outputs": [
    {
     "data": {
      "text/plain": [
       "[1, 2, 3, 4, 5, 7, 8, 9, 'maziyar', 1447]"
      ]
     },
     "execution_count": 58,
     "metadata": {},
     "output_type": "execute_result"
    }
   ],
   "source": [
    "list4"
   ]
  },
  {
   "cell_type": "code",
   "execution_count": 59,
   "metadata": {},
   "outputs": [
    {
     "data": {
      "text/plain": [
       "1"
      ]
     },
     "execution_count": 59,
     "metadata": {},
     "output_type": "execute_result"
    }
   ],
   "source": [
    "list4.count(\"maziyar\")"
   ]
  },
  {
   "cell_type": "code",
   "execution_count": 60,
   "metadata": {},
   "outputs": [
    {
     "data": {
      "text/plain": [
       "0"
      ]
     },
     "execution_count": 60,
     "metadata": {},
     "output_type": "execute_result"
    }
   ],
   "source": [
    "list4.count(\"reza\")"
   ]
  },
  {
   "cell_type": "code",
   "execution_count": 61,
   "metadata": {},
   "outputs": [],
   "source": [
    "list6=[1,5,8,6,4,52,6,8]"
   ]
  },
  {
   "cell_type": "code",
   "execution_count": 62,
   "metadata": {},
   "outputs": [
    {
     "data": {
      "text/plain": [
       "[1, 5, 8, 6, 4, 52, 6, 8]"
      ]
     },
     "execution_count": 62,
     "metadata": {},
     "output_type": "execute_result"
    }
   ],
   "source": [
    "list6"
   ]
  },
  {
   "cell_type": "code",
   "execution_count": 63,
   "metadata": {},
   "outputs": [],
   "source": [
    "list6.reverse()"
   ]
  },
  {
   "cell_type": "code",
   "execution_count": 64,
   "metadata": {},
   "outputs": [
    {
     "data": {
      "text/plain": [
       "[8, 6, 52, 4, 6, 8, 5, 1]"
      ]
     },
     "execution_count": 64,
     "metadata": {},
     "output_type": "execute_result"
    }
   ],
   "source": [
    "list6"
   ]
  },
  {
   "cell_type": "code",
   "execution_count": 65,
   "metadata": {},
   "outputs": [],
   "source": [
    "list6.sort()"
   ]
  },
  {
   "cell_type": "code",
   "execution_count": 66,
   "metadata": {},
   "outputs": [
    {
     "data": {
      "text/plain": [
       "[1, 4, 5, 6, 6, 8, 8, 52]"
      ]
     },
     "execution_count": 66,
     "metadata": {},
     "output_type": "execute_result"
    }
   ],
   "source": [
    "list6"
   ]
  },
  {
   "cell_type": "code",
   "execution_count": 67,
   "metadata": {},
   "outputs": [],
   "source": [
    "list6.insert(2,\"hosein\")"
   ]
  },
  {
   "cell_type": "code",
   "execution_count": 68,
   "metadata": {},
   "outputs": [
    {
     "data": {
      "text/plain": [
       "[1, 4, 'hosein', 5, 6, 6, 8, 8, 52]"
      ]
     },
     "execution_count": 68,
     "metadata": {},
     "output_type": "execute_result"
    }
   ],
   "source": [
    "list6"
   ]
  },
  {
   "cell_type": "code",
   "execution_count": 69,
   "metadata": {},
   "outputs": [],
   "source": [
    "#9"
   ]
  },
  {
   "cell_type": "code",
   "execution_count": null,
   "metadata": {},
   "outputs": [],
   "source": [
    "list1=[]\n",
    "list2=[]\n",
    "zarib=0\n",
    "soal=int(input(\"tedad dars haye in term? \"))\n",
    "for i in range(soal):\n",
    "    nomre=float(input(\"nomre dars ?\"))\n",
    "    if nomre<=20:\n",
    "        z=int(input(\"zarib dars ?\"))\n",
    "        list1.append(nomre)\n",
    "        k=z*nomre\n",
    "        list2.append(k)\n",
    "        zarib=zarib+z\n",
    "    else:\n",
    "        print(\"nomre na motabar\")\n",
    "s=sum(list2)\n",
    "t=s/zarib\n",
    "print(t)"
   ]
  },
  {
   "cell_type": "code",
   "execution_count": 1,
   "metadata": {},
   "outputs": [],
   "source": [
    "list4=[1,2,3]"
   ]
  },
  {
   "cell_type": "code",
   "execution_count": 2,
   "metadata": {},
   "outputs": [
    {
     "name": "stdout",
     "output_type": "stream",
     "text": [
      "6\n"
     ]
    }
   ],
   "source": [
    "print(sum(list4))"
   ]
  },
  {
   "cell_type": "code",
   "execution_count": 6,
   "metadata": {},
   "outputs": [],
   "source": [
    "#10"
   ]
  },
  {
   "cell_type": "code",
   "execution_count": 17,
   "metadata": {},
   "outputs": [],
   "source": [
    "def hello():\n",
    "    print(\"maziyar\")\n",
    "    print(\"adibifar\")\n",
    "    print(23)\n",
    "    print(\"arshad\")"
   ]
  },
  {
   "cell_type": "code",
   "execution_count": 19,
   "metadata": {},
   "outputs": [
    {
     "name": "stdout",
     "output_type": "stream",
     "text": [
      "maziyar\n",
      "adibifar\n",
      "23\n",
      "arshad\n",
      "maziyar\n",
      "adibifar\n",
      "23\n",
      "arshad\n",
      "maziyar\n",
      "adibifar\n",
      "23\n",
      "arshad\n"
     ]
    }
   ],
   "source": [
    "hello()\n",
    "hello()\n",
    "hello()"
   ]
  },
  {
   "cell_type": "code",
   "execution_count": 20,
   "metadata": {},
   "outputs": [
    {
     "name": "stdout",
     "output_type": "stream",
     "text": [
      "maziyar\n",
      "adibifar\n",
      "23\n",
      "arshad\n",
      "maziyar\n",
      "adibifar\n",
      "23\n",
      "arshad\n",
      "maziyar\n",
      "adibifar\n",
      "23\n",
      "arshad\n"
     ]
    }
   ],
   "source": [
    "print(\"maziyar\")\n",
    "print(\"adibifar\")\n",
    "print(23)\n",
    "print(\"arshad\")\n",
    "print(\"maziyar\")\n",
    "print(\"adibifar\")\n",
    "print(23)\n",
    "print(\"arshad\")\n",
    "print(\"maziyar\")\n",
    "print(\"adibifar\")\n",
    "print(23)\n",
    "print(\"arshad\")"
   ]
  },
  {
   "cell_type": "code",
   "execution_count": 23,
   "metadata": {},
   "outputs": [],
   "source": [
    "def nn(name):\n",
    "    print(\"wellcome to \"+name)"
   ]
  },
  {
   "cell_type": "code",
   "execution_count": 25,
   "metadata": {},
   "outputs": [
    {
     "name": "stdout",
     "output_type": "stream",
     "text": [
      "wellcome to maziyar\n"
     ]
    }
   ],
   "source": [
    "nn(\"maziyar\")"
   ]
  },
  {
   "cell_type": "code",
   "execution_count": 26,
   "metadata": {},
   "outputs": [],
   "source": [
    "def jam(num1,num2):\n",
    "    print(num1+num2)"
   ]
  },
  {
   "cell_type": "code",
   "execution_count": 27,
   "metadata": {},
   "outputs": [
    {
     "name": "stdout",
     "output_type": "stream",
     "text": [
      "38\n"
     ]
    }
   ],
   "source": [
    "jam(15,23)"
   ]
  },
  {
   "cell_type": "code",
   "execution_count": 66,
   "metadata": {},
   "outputs": [
    {
     "name": "stdout",
     "output_type": "stream",
     "text": [
      "mona\n"
     ]
    }
   ],
   "source": [
    "import random\n",
    "def gh(number):\n",
    "    if number==1:\n",
    "        return \"maziyar\"\n",
    "    elif number==2:\n",
    "        return \"hasan\"\n",
    "    elif number==3:\n",
    "        return \"mona\"\n",
    "    elif number==4:\n",
    "        return \"sara\"\n",
    "#r=random.randint(1,4)\n",
    "#f=gh(r)\n",
    "#print(f+\" bord\")\n",
    "print(gh(random.randint(1,4)))"
   ]
  },
  {
   "cell_type": "code",
   "execution_count": null,
   "metadata": {},
   "outputs": [],
   "source": []
  },
  {
   "cell_type": "code",
   "execution_count": null,
   "metadata": {},
   "outputs": [],
   "source": []
  }
 ],
 "metadata": {
  "kernelspec": {
   "display_name": "Python 3",
   "language": "python",
   "name": "python3"
  },
  "language_info": {
   "codemirror_mode": {
    "name": "ipython",
    "version": 3
   },
   "file_extension": ".py",
   "mimetype": "text/x-python",
   "name": "python",
   "nbconvert_exporter": "python",
   "pygments_lexer": "ipython3",
   "version": "3.8.5"
  }
 },
 "nbformat": 4,
 "nbformat_minor": 4
}
